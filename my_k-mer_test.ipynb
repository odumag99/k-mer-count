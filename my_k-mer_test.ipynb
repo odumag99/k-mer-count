{
 "cells": [
  {
   "cell_type": "code",
   "execution_count": 13,
   "metadata": {},
   "outputs": [
    {
     "name": "stdout",
     "output_type": "stream",
     "text": [
      "0b1\n"
     ]
    }
   ],
   "source": [
    "a= (0b1 << 1) - 1\n",
    "print(bin(a))"
   ]
  },
  {
   "cell_type": "code",
   "execution_count": 34,
   "metadata": {},
   "outputs": [
    {
     "name": "stdout",
     "output_type": "stream",
     "text": [
      "0b110100\n",
      "0b10000\n",
      "0b11\n",
      "0b1101\n",
      "0b110100\n",
      "0b10000\n",
      "0b10\n",
      "0b1001\n",
      "0b100110\n",
      "0b11000\n",
      "0b100001\n",
      "0b100\n",
      "0b10001\n",
      "0b100\n",
      "0b10000\n",
      "0b11\n",
      "15\n",
      "{16: 3, 3: 2, 13: 1, 52: 1, 2: 1, 9: 1, 38: 1, 24: 1, 33: 1, 4: 2, 17: 1}\n",
      "---result---\n",
      "GAA: 3\n",
      "AAT: 2\n",
      "ATG: 1\n",
      "TGA: 1\n",
      "AAC: 1\n",
      "ACG: 1\n",
      "CGC: 1\n",
      "GCA: 1\n",
      "CAG: 1\n",
      "AGA: 2\n",
      "GAG: 1\n"
     ]
    }
   ],
   "source": [
    "k=3\n",
    "sequence = 'ATGAACGCAGAGAAT'\n",
    "\n",
    "bit_mask = (0b1 << (2 * k)) - 1\n",
    "\n",
    "count = {}\n",
    "\n",
    "def decode(code):\n",
    "    result = []\n",
    "    \n",
    "    basic = (0b1 << 2) -1 # if 식별 문자 개수 2개인 경우를 가정함. 0b11.\n",
    "    for i in range(k):    \n",
    "        cur_code = code & basic\n",
    "        if cur_code == 0b00:\n",
    "            result.append('A')\n",
    "        elif cur_code == 0b01:\n",
    "            result.append('G')\n",
    "        elif cur_code == 0b10:\n",
    "            result.append('C')\n",
    "        elif cur_code == 0b11:\n",
    "            result.append('T')\n",
    "        else: raise Exception(f'[decode({code:b})]: 존재하지 않는 cur_code {cur_code:b}')\n",
    "        code = code >> 2\n",
    "\n",
    "    return ''.join(result[::-1]) # result를 거꾸로 출력해야 함\n",
    "\n",
    "# cur_sequence = 0b0 << (3 * k)\n",
    "\n",
    "# cur_sequence 초기화\n",
    "init_count = 0\n",
    "i=0\n",
    "cur_sequence = 0b0\n",
    "while (init_count <= k):\n",
    "    cur_gene = sequence[i]\n",
    "    if cur_gene == 'A':\n",
    "        cur_gene = 0b00\n",
    "    elif cur_gene == 'G':\n",
    "        cur_gene = 0b01\n",
    "    elif cur_gene == 'C':\n",
    "        cur_gene = 0b10\n",
    "    elif cur_gene == 'T':\n",
    "        cur_gene = 0b11\n",
    "    else:\n",
    "        i+=1\n",
    "        continue\n",
    "    cur_sequence = (cur_sequence << 2) | cur_gene\n",
    "    i += 1\n",
    "    init_count += 1\n",
    "print(bin(cur_sequence))\n",
    "\n",
    "\n",
    "for i in range(len(sequence)):\n",
    "    cur_gene = sequence[i]\n",
    "    if cur_gene == 'A':\n",
    "        cur_gene = 0b00\n",
    "    elif cur_gene == 'G':\n",
    "        cur_gene = 0b01\n",
    "    elif cur_gene == 'C':\n",
    "        cur_gene = 0b10\n",
    "    elif cur_gene == 'T':\n",
    "        cur_gene = 0b11\n",
    "    else: continue\n",
    "    \n",
    "    cur_sequence = ((cur_sequence << 2) | cur_gene) & bit_mask\n",
    "    print(bin(cur_sequence))\n",
    "    if cur_sequence not in count:\n",
    "        count[cur_sequence] = 1\n",
    "    else: count[cur_sequence] += 1\n",
    "\n",
    "print(len(sequence))\n",
    "print(count)\n",
    "print('---result---')\n",
    "for code, num in count.items():\n",
    "    code = decode(code)\n",
    "    print(f'{code}: {num}')"
   ]
  }
 ],
 "metadata": {
  "kernelspec": {
   "display_name": "Python 3",
   "language": "python",
   "name": "python3"
  },
  "language_info": {
   "codemirror_mode": {
    "name": "ipython",
    "version": 3
   },
   "file_extension": ".py",
   "mimetype": "text/x-python",
   "name": "python",
   "nbconvert_exporter": "python",
   "pygments_lexer": "ipython3",
   "version": "3.12.3"
  }
 },
 "nbformat": 4,
 "nbformat_minor": 2
}
